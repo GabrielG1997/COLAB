{
  "nbformat": 4,
  "nbformat_minor": 0,
  "metadata": {
    "colab": {
      "provenance": [],
      "authorship_tag": "ABX9TyNqmuyUSiNQQ6F1jyCSx1hS",
      "include_colab_link": true
    },
    "kernelspec": {
      "name": "python3",
      "display_name": "Python 3"
    },
    "language_info": {
      "name": "python"
    }
  },
  "cells": [
    {
      "cell_type": "markdown",
      "metadata": {
        "id": "view-in-github",
        "colab_type": "text"
      },
      "source": [
        "<a href=\"https://colab.research.google.com/github/GabrielG1997/COLAB/blob/main/TextToSpeachExample.ipynb\" target=\"_parent\"><img src=\"https://colab.research.google.com/assets/colab-badge.svg\" alt=\"Open In Colab\"/></a>"
      ]
    },
    {
      "cell_type": "markdown",
      "source": [
        "# Description\n",
        "\n",
        "This example demonstrate the use of the gTTS library to develop text to speach solutions, allowing a better integration between humans and software, for example."
      ],
      "metadata": {
        "id": "_FDIOZOFUR3f"
      }
    },
    {
      "cell_type": "code",
      "execution_count": 6,
      "metadata": {
        "colab": {
          "base_uri": "https://localhost:8080/"
        },
        "id": "V-10e1JySK9e",
        "outputId": "ff4a7d62-b296-4a4a-9711-37aa46c9efb3"
      },
      "outputs": [
        {
          "output_type": "stream",
          "name": "stdout",
          "text": [
            "Requirement already satisfied: gTTS in /usr/local/lib/python3.10/dist-packages (2.5.4)\n",
            "Requirement already satisfied: requests<3,>=2.27 in /usr/local/lib/python3.10/dist-packages (from gTTS) (2.32.3)\n",
            "Requirement already satisfied: click<8.2,>=7.1 in /usr/local/lib/python3.10/dist-packages (from gTTS) (8.1.7)\n",
            "Requirement already satisfied: charset-normalizer<4,>=2 in /usr/local/lib/python3.10/dist-packages (from requests<3,>=2.27->gTTS) (3.4.0)\n",
            "Requirement already satisfied: idna<4,>=2.5 in /usr/local/lib/python3.10/dist-packages (from requests<3,>=2.27->gTTS) (3.10)\n",
            "Requirement already satisfied: urllib3<3,>=1.21.1 in /usr/local/lib/python3.10/dist-packages (from requests<3,>=2.27->gTTS) (2.2.3)\n",
            "Requirement already satisfied: certifi>=2017.4.17 in /usr/local/lib/python3.10/dist-packages (from requests<3,>=2.27->gTTS) (2024.12.14)\n"
          ]
        }
      ],
      "source": [
        "!pip install gTTS #library to transform text to speach\n",
        "from gtts import gTTS\n",
        "from IPython.display import Audio # To enable playing the audio in this page"
      ]
    },
    {
      "cell_type": "code",
      "source": [
        "text_to_say = \"How are you doing?\"\n",
        "language = \"en\"\n",
        "gtts_object = gTTS(text = text_to_say, lang = language, slow = False)"
      ],
      "metadata": {
        "id": "a2x4rkjoSivv"
      },
      "execution_count": 3,
      "outputs": []
    },
    {
      "cell_type": "code",
      "source": [
        "gtts_object.save(\"/content/gtts.wav\") # Save file in content"
      ],
      "metadata": {
        "id": "6nT2FlA4S3dO"
      },
      "execution_count": 4,
      "outputs": []
    },
    {
      "cell_type": "code",
      "source": [
        "Audio(\"/content/gtts.wav\") # Allow playing the audio in this page"
      ],
      "metadata": {
        "colab": {
          "base_uri": "https://localhost:8080/",
          "height": 75
        },
        "id": "rqv2ttTsTQ4l",
        "outputId": "f78c2213-72d1-4f14-8d00-0ecc9b8db806"
      },
      "execution_count": 7,
      "outputs": [
        {
          "output_type": "execute_result",
          "data": {
            "text/plain": [
              "<IPython.lib.display.Audio object>"
            ],
            "text/html": [
              "\n",
              "                <audio  controls=\"controls\" >\n",
              "                    <source src=\"data:audio/x-wav;base64,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\" type=\"audio/x-wav\" />\n",
              "                    Your browser does not support the audio element.\n",
              "                </audio>\n",
              "              "
            ]
          },
          "metadata": {},
          "execution_count": 7
        }
      ]
    }
  ]
}