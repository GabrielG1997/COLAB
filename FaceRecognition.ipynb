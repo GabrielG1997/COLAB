{
  "nbformat": 4,
  "nbformat_minor": 0,
  "metadata": {
    "colab": {
      "provenance": [],
      "gpuType": "V28",
      "authorship_tag": "ABX9TyNORtE+me2D1j3hXHQCt077",
      "include_colab_link": true
    },
    "kernelspec": {
      "name": "python3",
      "display_name": "Python 3"
    },
    "language_info": {
      "name": "python"
    },
    "accelerator": "TPU"
  },
  "cells": [
    {
      "cell_type": "markdown",
      "metadata": {
        "id": "view-in-github",
        "colab_type": "text"
      },
      "source": [
        "<a href=\"https://colab.research.google.com/github/GabrielG1997/COLAB/blob/main/FaceRecognition.ipynb\" target=\"_parent\"><img src=\"https://colab.research.google.com/assets/colab-badge.svg\" alt=\"Open In Colab\"/></a>"
      ]
    },
    {
      "cell_type": "code",
      "source": [
        "# Installing and configuring environment\n",
        "\n",
        "# Installing dependencies\n",
        "!pip install -q torch torchvision torchaudio --index-url https://download.pytorch.org/whl/cu118  # PyTorch compatível com GPUs do Colab\n",
        "!pip install -q seaborn matplotlib tqdm opencv-python-headless\n",
        "# importing necessary libraries.\n",
        "from pathlib import Path\n",
        "from IPython.display import Image\n",
        "import shutil\n",
        "import kagglehub"
      ],
      "metadata": {
        "id": "xaczjnIARsQE",
        "collapsed": true
      },
      "execution_count": null,
      "outputs": []
    },
    {
      "cell_type": "code",
      "source": [
        "# Rep clone -> YOLOv5\n",
        "!git clone https://github.com/ultralytics/yolov5.git\n",
        "%cd yolov5"
      ],
      "metadata": {
        "id": "HvwMMHSSRvJI"
      },
      "execution_count": null,
      "outputs": []
    },
    {
      "cell_type": "code",
      "source": [
        "# Install YOLOv5 dependencies\n",
        "!pip install -qr requirements.txt"
      ],
      "metadata": {
        "id": "DHxKOfAXRyBP"
      },
      "execution_count": null,
      "outputs": []
    },
    {
      "cell_type": "code",
      "source": [
        "# Start training with new classes\n",
        "!python train.py --img 640 --batch 16 --epochs 50 --data /content/yolov5/dataset/data.yaml --weights yolov5s.pt --freeze 10"
      ],
      "metadata": {
        "id": "QM0KD-t5R3S_"
      },
      "execution_count": null,
      "outputs": []
    },
    {
      "cell_type": "code",
      "source": [
        "!python train.py --resume"
      ],
      "metadata": {
        "id": "_3KhgxgEzIZu"
      },
      "execution_count": null,
      "outputs": []
    },
    {
      "cell_type": "code",
      "source": [
        "import shutil\n",
        "import os\n",
        "from google.colab import files\n",
        "\n",
        "# path where weights are saved\n",
        "weights_dir = \"./runs/train/exp2/weights\"\n",
        "last_weights = f\"{weights_dir}/last.pt\"\n",
        "best_weights = f\"{weights_dir}/best.pt\"\n",
        "\n",
        "try:\n",
        "    # downloads best model (best.pt)\n",
        "    if os.path.exists(best_weights):\n",
        "        files.download(best_weights)\n",
        "        print(\"Best weights downloaded successfully!\")\n",
        "    else:\n",
        "        print(\"Best weights not found.\")\n",
        "\n",
        "    # downloads last model (last.pt)\n",
        "    if os.path.exists(last_weights):\n",
        "        files.download(last_weights)\n",
        "        print(\"Last weights downloaded successfully!\")\n",
        "    else:\n",
        "        print(\"Last weights not found.\")\n",
        "\n",
        "except Exception as e:\n",
        "    print(f\"Error during download: {e}\")\n"
      ],
      "metadata": {
        "id": "O_8RH_B_9GBQ"
      },
      "execution_count": null,
      "outputs": []
    },
    {
      "cell_type": "code",
      "source": [
        "# Test model after training using new weights\n",
        "!python detect.py --weights runs/train/exp2/weights/best.pt --img 640 --conf 0.25 --source /content/yolov5/dataset/valid/images"
      ],
      "metadata": {
        "id": "TBC7O_D-SALA"
      },
      "execution_count": null,
      "outputs": []
    }
  ]
}